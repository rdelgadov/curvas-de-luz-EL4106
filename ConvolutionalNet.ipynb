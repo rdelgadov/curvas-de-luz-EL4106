{
 "cells": [
  {
   "cell_type": "code",
   "execution_count": 1,
   "metadata": {},
   "outputs": [],
   "source": [
    "import numpy as np\n",
    "import tensorflow as tf\n",
    "\n",
    "#importar los datos:\n",
    "#importar desde 3 archivos diferentes, labels x,y x archivo.\n",
    "#x_train,y_train = datostrain.x,datostrain.y\n",
    "#x_validation, y_validation = datosvalidation.x, datosvalidation.y\n",
    "#x_testing, y_testing = datostesting.x,datostesting.y\n",
    "x_train=np.array([[1.0, 0.0, 2.0, 3.0, 0.0, 1.0, 1.0, 3.0, 4.0],[0.0,0.0,0.0,0.0,1.0,0.0,0.0,0.0,1.0]],dtype=np.float32)\n",
    "batch_size=2\n"
   ]
  },
  {
   "cell_type": "code",
   "execution_count": 2,
   "metadata": {},
   "outputs": [],
   "source": [
    "# Dimensiones arreglo de data. \n",
    "N,D = x_train.shape\n",
    "\n",
    "# Redimensionar para usar tensores de Nx1 y Dx1\n",
    "x_train = x_train.reshape(N,1,D,1)\n",
    "\n",
    "# Input de la red, None es para utilzar cualquier numero de input\n",
    "x_input = tf.placeholder(tf.float32, shape=[batch_size,1,D,1], name='x-input')\n",
    "\n",
    "# Output de la red\n",
    "target = tf.placeholder(tf.float32, name='target', shape=(batch_size, 10))\n",
    "\n",
    "# filtro\n",
    "filter_size, n_filters = 3, 12\n",
    "# Son n_filters filtros de tamaño filter_size\n"
   ]
  },
  {
   "cell_type": "code",
   "execution_count": 3,
   "metadata": {},
   "outputs": [],
   "source": [
    "# Model blocks\n",
    "def conv_layer(input_tensor, kernel_shape, layer_name):\n",
    "    # input_tensor b01c\n",
    "    # kernel_shape 01-in-out\n",
    "    weights = tf.get_variable(\"weights\", kernel_shape,\n",
    "                               initializer = tf.contrib.layers.xavier_initializer_conv2d())\n",
    "    biases = tf.get_variable(\"biases\", [kernel_shape[3]],\n",
    "                             initializer=tf.constant_initializer(0.05))\n",
    "    \n",
    "    tf.summary.histogram(layer_name + \"/weights\", weights)\n",
    "    tf.summary.histogram(layer_name + \"/biases\", biases)\n",
    "    \n",
    "    # Other options are to use He et. al init. for weights and 0.01 \n",
    "    # to init. biases.\n",
    "    conv = tf.nn.conv2d(input_tensor, weights, \n",
    "                       strides = [1, 1, 1, 1], padding='SAME')\n",
    "    return tf.nn.relu(conv + biases)\n",
    "\n",
    "def fc_layer(input_tensor, weights_shape, layer_name):\n",
    "    # weights_shape in-out\n",
    "    weights = tf.get_variable(\"weights\", weights_shape,\n",
    "                              initializer = tf.contrib.layers.xavier_initializer())\n",
    "    biases = tf.get_variable(\"biases\", [weights_shape[1]],\n",
    "                             initializer=tf.constant_initializer(0.0))\n",
    "    tf.summary.histogram(layer_name + \"/weights\", weights)\n",
    "    tf.summary.histogram(layer_name + \"/biases\", biases)\n",
    "    mult_out = tf.matmul(input_tensor, weights)\n",
    "    return tf.nn.relu(mult_out+biases)"
   ]
  },
  {
   "cell_type": "code",
   "execution_count": 4,
   "metadata": {},
   "outputs": [
    {
     "name": "stdout",
     "output_type": "stream",
     "text": [
      "(2, 1, 9, 12)\n"
     ]
    }
   ],
   "source": [
    "layer_name='conv1'\n",
    "\n",
    "with tf.variable_scope(layer_name):\n",
    "    conv1_out = conv_layer(x_train, [1, filter_size, 1, n_filters], layer_name)\n",
    "with tf.name_scope('pool1'):\n",
    "    pool1_out = tf.nn.max_pool(conv1_out, ksize=[1, 2, 1, 1],\n",
    "                          strides=[1, 2, 1, 1], padding='SAME',\n",
    "                          name='pool1')\n",
    "    print(pool1_out.shape)"
   ]
  },
  {
   "cell_type": "code",
   "execution_count": 5,
   "metadata": {},
   "outputs": [
    {
     "name": "stdout",
     "output_type": "stream",
     "text": [
      "Tensor(\"pool1/pool1:0\", shape=(2, 1, 9, 12), dtype=float32)\n"
     ]
    }
   ],
   "source": [
    "print(pool1_out)"
   ]
  },
  {
   "cell_type": "code",
   "execution_count": null,
   "metadata": {},
   "outputs": [],
   "source": []
  }
 ],
 "metadata": {
  "kernelspec": {
   "display_name": "jupyter3_Python_3",
   "language": "python",
   "name": "jupyter3_python_3"
  },
  "language_info": {
   "codemirror_mode": {
    "name": "ipython",
    "version": 3
   },
   "file_extension": ".py",
   "mimetype": "text/x-python",
   "name": "python",
   "nbconvert_exporter": "python",
   "pygments_lexer": "ipython3",
   "version": "3.5.2"
  }
 },
 "nbformat": 4,
 "nbformat_minor": 2
}
