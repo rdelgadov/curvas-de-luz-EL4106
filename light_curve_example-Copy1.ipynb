{
 "cells": [
  {
   "cell_type": "code",
   "execution_count": 1,
   "metadata": {},
   "outputs": [],
   "source": [
    "import json\n",
    "import GPy\n",
    "import numpy as np\n",
    "%matplotlib inline\n",
    "import matplotlib.pylab as plt\n",
    "from os.path import join, splitext\n",
    "from os import listdir"
   ]
  },
  {
   "cell_type": "code",
   "execution_count": 2,
   "metadata": {},
   "outputs": [],
   "source": [
    "data_path = '/home/rodrigo/Documents/curvas-de-luz-EL4106/OGLE_trainingDB/'\n",
    "sub_class = 'CEPH/1O_20'"
   ]
  },
  {
   "cell_type": "code",
   "execution_count": 3,
   "metadata": {},
   "outputs": [],
   "source": [
    "lc_list = [splitext(file)[0] for file in sorted(listdir(join(data_path, sub_class))) if splitext(file)[1] == '.dat']"
   ]
  },
  {
   "cell_type": "code",
   "execution_count": 4,
   "metadata": {},
   "outputs": [
    {
     "name": "stdout",
     "output_type": "stream",
     "text": [
      "166\n"
     ]
    }
   ],
   "source": [
    "print(len(lc_list))\n",
    "file = open('database.csv','a')\n",
    "def smooth(x, window_len=11, window='hanning'):\n",
    "    if window_len < 3:\n",
    "        return x\n",
    "    if not window in ['flat', 'hanning', 'hamming', 'bartlett', 'blackman']:\n",
    "        raise ValueError(\"Window is on of 'flat', 'hanning', 'hamming', 'bartlett', 'blackman'\")\n",
    "    s=np.r_[x[window_len-1:0:-1],x,x[-1:-window_len:-1]]\n",
    "    if window == 'flat': #moving average\n",
    "        w=np.ones(window_len,'d')\n",
    "    else:\n",
    "        w=eval('np.'+window+'(window_len)')\n",
    "    y=np.convolve(w/w.sum(),s,mode='valid')\n",
    "    return y    "
   ]
  },
  {
   "cell_type": "code",
   "execution_count": 5,
   "metadata": {},
   "outputs": [
    {
     "name": "stdout",
     "output_type": "stream",
     "text": [
      "Running L-BFGS-B (Scipy implementation) Code:\n",
      "  runtime   i      f              |g|        \n",
      "    00s19  0002   3.337541e+02   9.362233e+03 \n",
      "    01s79  0022   2.934833e+02   8.053788e-04 \n",
      "Runtime:     01s79\n",
      "Optimization status: Errorb'ABNORMAL_TERMINATION_IN_LNSRCH'\n",
      "\n",
      "Optimization restart 1/5, f = 293.4832796545429\n",
      "Optimization restart 2/5, f = 293.48327321179613\n",
      "Optimization restart 3/5, f = 293.4832740156876\n",
      "Optimization restart 4/5, f = 293.4832747018045\n",
      "Optimization restart 5/5, f = 316.3418173329733\n",
      "162\n",
      "Running L-BFGS-B (Scipy implementation) Code:\n",
      "  runtime   i      f              |g|        \n",
      "    00s17  0001   6.084287e+01   1.750557e-08 \n",
      "    02s28  0022   4.715255e+01   1.416428e-06 \n",
      "    05s03  0059   4.701861e+01   2.223831e-07 \n",
      "Runtime:     05s03\n",
      "Optimization status: Converged\n",
      "\n",
      "Optimization restart 1/5, f = 47.01860722433912\n",
      "Optimization restart 2/5, f = 60.84287446589542\n",
      "Optimization restart 3/5, f = 60.84287234021485\n",
      "Optimization restart 4/5, f = 60.84287145345934\n",
      "Optimization restart 5/5, f = 60.84286807924673\n",
      "163\n",
      "Running L-BFGS-B (Scipy implementation) Code:\n",
      "  runtime   i      f              |g|        \n",
      "    00s16  0004  -2.894535e+02   1.317399e-05 \n",
      "    00s87  0022  -2.894535e+02   1.407237e-05 \n",
      "Runtime:     00s87\n",
      "Optimization status: Converged\n",
      "\n",
      "Optimization restart 1/5, f = -289.4534710709629\n",
      "Optimization restart 2/5, f = -289.4534708436008\n",
      "Optimization restart 3/5, f = -289.4534710785008\n",
      "Optimization restart 4/5, f = -289.45347069753143\n",
      "Optimization restart 5/5, f = -289.4534711312456\n",
      "164\n",
      "Running L-BFGS-B (Scipy implementation) Code:\n",
      "  runtime   i      f              |g|        \n",
      "    00s16  0004   2.251574e+03   9.292170e-06 \n",
      "    00s88  0022   2.251574e+03   9.310322e-06 \n",
      "Runtime:     00s88\n",
      "Optimization status: Errorb'ABNORMAL_TERMINATION_IN_LNSRCH'\n",
      "\n",
      "Optimization restart 1/5, f = 2251.574378030309\n",
      "Optimization restart 2/5, f = 2462.96962301768\n",
      "Optimization restart 3/5, f = 1182.5875682776116\n",
      "Optimization restart 4/5, f = 1182.5875682701644\n",
      "Optimization restart 5/5, f = 1661.5256449564818\n",
      "165\n"
     ]
    }
   ],
   "source": [
    "for lc_index in range(162,len(lc_list)):\n",
    "    \n",
    "    data = np.loadtxt(join(data_path, sub_class, lc_list[lc_index]+'.time'))\n",
    "    period = np.loadtxt(join(data_path, sub_class, lc_list[lc_index]+'.dat'))\n",
    "    mjd, mag_r, err_r, mag_b, err_b = data[:, 0], data[:, 1], data[:, 2], data[:, 3], data[:, 4]\n",
    "    \"\"\"\n",
    "    mjd_b = mjd\n",
    "    mjd_r = mjd\n",
    "    \"\"\"\n",
    "    mjd_b = mjd[err_b < 9.999]\n",
    "    mjd_r = mjd[err_r < 9.999]\n",
    "    mag_b = mag_b[err_b < 9.999]\n",
    "    mag_r = mag_r[err_r < 9.999]\n",
    "    err_b = err_b[err_b < 9.999]\n",
    "    err_r = err_r[err_r < 9.999]\n",
    "\n",
    "    mask = err_b < np.mean(err_b) + 3*np.std(err_b)\n",
    "    mjd_b = mjd_b[mask]\n",
    "    mag_b = mag_b[mask]\n",
    "    err_b = err_b[mask]\n",
    "    mask = err_r < np.mean(err_r) + 3*np.std(err_r)\n",
    "    mjd_r = mjd_r[mask]\n",
    "    mag_r = mag_r[mask]\n",
    "    err_r = err_r[mask]\n",
    "    \n",
    "    phi = np.mod(mjd_b, period)/period\n",
    "    I = np.argsort(phi)\n",
    "    phi_rs = np.linspace(0, 1, num=200)\n",
    "    mag_b_rs = np.interp(phi_rs, phi[I], mag_b[I])\n",
    "    \n",
    "\n",
    "    kernel = GPy.kern.RBF(input_dim=1, variance=1., lengthscale=1.)\n",
    "    m = GPy.models.GPHeteroscedasticRegression(phi[:, np.newaxis], mag_b[:, np.newaxis], kernel)\n",
    "    m['.*het_Gauss.variance'] = err_b[:, np.newaxis]**2 \n",
    "    m.het_Gauss.variance.fix() \n",
    "    #m.het_Gauss.period.fix() \n",
    "    m.optimize()\n",
    "\n",
    "    m.optimize(messages=True)\n",
    "    m.optimize_restarts(num_restarts = 5)\n",
    "    mu, var = m._raw_predict(phi_rs[:, np.newaxis])\n",
    "    # File writer\n",
    "    file.write(json.dumps(phi_rs.tolist())+\";\"+json.dumps(mu[:,0].tolist())+\";\"+sub_class+'\\n')\n",
    "    print(lc_index)\n",
    "file.close()\n",
    "    \n",
    "\n",
    "    \n"
   ]
  },
  {
   "cell_type": "code",
   "execution_count": 6,
   "metadata": {},
   "outputs": [
    {
     "name": "stdout",
     "output_type": "stream",
     "text": [
      "Finished\n"
     ]
    }
   ],
   "source": [
    "print(\"Finished\")"
   ]
  },
  {
   "cell_type": "code",
   "execution_count": null,
   "metadata": {
    "scrolled": true
   },
   "outputs": [],
   "source": []
  },
  {
   "cell_type": "code",
   "execution_count": null,
   "metadata": {},
   "outputs": [],
   "source": []
  },
  {
   "cell_type": "code",
   "execution_count": null,
   "metadata": {},
   "outputs": [],
   "source": []
  },
  {
   "cell_type": "code",
   "execution_count": null,
   "metadata": {},
   "outputs": [],
   "source": []
  },
  {
   "cell_type": "code",
   "execution_count": null,
   "metadata": {},
   "outputs": [],
   "source": []
  },
  {
   "cell_type": "code",
   "execution_count": null,
   "metadata": {},
   "outputs": [],
   "source": []
  }
 ],
 "metadata": {
  "kernelspec": {
   "display_name": "Python 3",
   "language": "python",
   "name": "python3"
  },
  "language_info": {
   "codemirror_mode": {
    "name": "ipython",
    "version": 3
   },
   "file_extension": ".py",
   "mimetype": "text/x-python",
   "name": "python",
   "nbconvert_exporter": "python",
   "pygments_lexer": "ipython3",
   "version": "3.5.2"
  }
 },
 "nbformat": 4,
 "nbformat_minor": 2
}
