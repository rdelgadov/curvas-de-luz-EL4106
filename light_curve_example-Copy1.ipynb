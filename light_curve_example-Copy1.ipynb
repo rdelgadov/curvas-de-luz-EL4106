{
 "cells": [
  {
   "cell_type": "code",
   "execution_count": 14,
   "metadata": {},
   "outputs": [],
   "source": [
    "import json\n",
    "import GPy\n",
    "import numpy as np\n",
    "%matplotlib inline\n",
    "import matplotlib.pylab as plt\n",
    "from os.path import join, splitext\n",
    "from os import listdir\n",
    "from multiprocessing import Pool,Lock\n",
    "import threading"
   ]
  },
  {
   "cell_type": "code",
   "execution_count": 56,
   "metadata": {},
   "outputs": [],
   "source": [
    "data_path = '/home/rodrigo/Documents/curvas-de-luz-EL4106/OGLE_trainingDB(1)/'\n",
    "sub_class = 'CEPH/F_10'"
   ]
  },
  {
   "cell_type": "code",
   "execution_count": 16,
   "metadata": {},
   "outputs": [
    {
     "data": {
      "text/plain": [
       "'asd/fg/ed'"
      ]
     },
     "execution_count": 16,
     "metadata": {},
     "output_type": "execute_result"
    }
   ],
   "source": [
    "# para tener todos los directorios, bastaria eliminar los que ya se procesaron.\n",
    "join('asd','fg','ed')"
   ]
  },
  {
   "cell_type": "code",
   "execution_count": 55,
   "metadata": {},
   "outputs": [
    {
     "name": "stdout",
     "output_type": "stream",
     "text": [
      "4 \n",
      "5\n",
      " \n",
      "\n"
     ]
    }
   ],
   "source": [
    "def test(lista):\n",
    "    print( lista[2],'\\n' )\n",
    "l1 = [2,3,4]\n",
    "l2 = [3,4,5]\n",
    "l4 = [5,6]\n",
    "\n",
    "t2 = threading.Thread(target=test, args=[l1])\n",
    "t2.start()\n",
    "t2.join()\n",
    "    \n",
    "\n",
    "t3 = threading.Thread(target=test, args=[l2])\n",
    "t3.start()\n",
    "t3.join()\n",
    "try:\n",
    "    t4 = threading.Thread(target=test, args=[l4[2]])\n",
    "    t4.start()\n",
    "    t4.join()\n",
    "except Exception:\n",
    "    _\n"
   ]
  },
  {
   "cell_type": "code",
   "execution_count": 46,
   "metadata": {},
   "outputs": [],
   "source": [
    "lock = Lock()\n",
    "file = open('database2.csv','a')\n",
    "def smooth(x, window_len=11, window='hanning'):\n",
    "    if window_len < 3:\n",
    "        return x\n",
    "    if not window in ['flat', 'hanning', 'hamming', 'bartlett', 'blackman']:\n",
    "        raise ValueError(\"Window is on of 'flat', 'hanning', 'hamming', 'bartlett', 'blackman'\")\n",
    "    s=np.r_[x[window_len-1:0:-1],x,x[-1:-window_len:-1]]\n",
    "    if window == 'flat': #moving average\n",
    "        w=np.ones(window_len,'d')\n",
    "    else:\n",
    "        w=eval('np.'+window+'(window_len)')\n",
    "    y=np.convolve(w/w.sum(),s,mode='valid')\n",
    "    return y    "
   ]
  },
  {
   "cell_type": "code",
   "execution_count": null,
   "metadata": {},
   "outputs": [],
   "source": [
    "def worker(data,period):\n",
    "    mjd, mag_r, err_r, mag_b, err_b = data[:, 0], data[:, 1], data[:, 2], data[:, 3], data[:, 4]\n",
    "    \"\"\"\n",
    "    mjd_b = mjd\n",
    "    mjd_r = mjd\n",
    "    \"\"\"\n",
    "    mjd_b = mjd[err_b < 9.999]\n",
    "    mjd_r = mjd[err_r < 9.999]\n",
    "    mag_b = mag_b[err_b < 9.999]\n",
    "    mag_r = mag_r[err_r < 9.999]\n",
    "    err_b = err_b[err_b < 9.999]\n",
    "    err_r = err_r[err_r < 9.999]\n",
    "    \n",
    "    mask = err_b < np.mean(err_b) + 3*np.std(err_b)\n",
    "    mjd_b = mjd_b[mask]\n",
    "    mag_b = mag_b[mask]\n",
    "    err_b = err_b[mask]\n",
    "    mask = err_r < np.mean(err_r) + 3*np.std(err_r)\n",
    "    mjd_r = mjd_r[mask]\n",
    "    mag_r = mag_r[mask]\n",
    "    err_r = err_r[mask]\n",
    "\n",
    "    phi = np.mod(mjd_b, period)/period\n",
    "    I = np.argsort(phi)\n",
    "    phi_rs = np.linspace(0, 1, num=200)\n",
    "    mag_b_rs = np.interp(phi_rs, phi[I], mag_b[I])\n",
    "\n",
    "\n",
    "    kernel = GPy.kern.RBF(input_dim=1, variance=1., lengthscale=1.)\n",
    "    m = GPy.models.GPHeteroscedasticRegression(phi[:, np.newaxis], mag_b[:, np.newaxis], kernel)\n",
    "    m['.*het_Gauss.variance'] = err_b[:, np.newaxis]**2 \n",
    "    m.het_Gauss.variance.fix() \n",
    "    #m.het_Gauss.period.fix() \n",
    "    \n",
    "    m.optimize()\n",
    "    m.optimize(messages=True)\n",
    "    m.optimize_restarts(num_restarts = 5)\n",
    "    mu, var = m._raw_predict(phi_rs[:, np.newaxis])\n",
    "    # File writer\n",
    "    mu = json.dumps(mu[:,0].tolist())\n",
    "    file.write(mu + ';' + subclass+'\\n')\n",
    "    "
   ]
  },
  {
   "cell_type": "code",
   "execution_count": 57,
   "metadata": {},
   "outputs": [
    {
     "name": "stdout",
     "output_type": "stream",
     "text": [
      "RRL RRab 11701\n",
      "EB ED_ESD 319\n",
      "EB ELL_EC 147\n",
      "EB EC 721\n",
      "EB ED_VAR 58\n",
      "EB ESD 3240\n",
      "EB ED_TEB 3\n",
      "EB ESD_DPV 12\n",
      "EB ED 4755\n",
      "CEPH 1O 1027\n",
      "CEPH 1O_20 166\n",
      "CEPH 1O_3O 2\n",
      "CEPH F_10_20 2\n",
      "CEPH 1O_20_3O 3\n",
      "CEPH F 1482\n",
      "CEPH 2O 12\n",
      "CEPH F_10 51\n"
     ]
    }
   ],
   "source": [
    "dir_list = listdir(data_path)\n",
    "for dir in dir_list:\n",
    "    for subclass in listdir(join(data_path,dir)):\n",
    "        lc_list = [splitext(file)[0] for file in sorted(listdir(join(data_path, dir , subclass))) if splitext(file)[1] == '.dat']\n",
    "        print(dir,subclass,len(lc_list))\n",
    "        if len(lc_list)>99999950:\n",
    "            for lc_index in range(1,len(lc_list),4):\n",
    "                data = np.loadtxt(join(data_path, sub_class, lc_list[lc_index]+'.time'))\n",
    "                period = np.loadtxt(join(data_path, sub_class, lc_list[lc_index]+'.dat'))\n",
    "                try:\n",
    "                    data2 = np.loadtxt(join(data_path, sub_class, lc_list[lc_index+1]+'.time'))\n",
    "                    period2 = np.loadtxt(join(data_path, sub_class, lc_list[lc_index+1]+'.dat'))\n",
    "                    t2 = threading.Thread(target=work, args=[data2,period2,file])\n",
    "                    t2.start()\n",
    "                    t2.join()\n",
    "                except Exception:\n",
    "                    _\n",
    "                \n",
    "                try:\n",
    "                    data3 = np.loadtxt(join(data_path, sub_class, lc_list[lc_index+2]+'.time'))\n",
    "                    period3 = np.loadtxt(join(data_path, sub_class, lc_list[lc_index+2]+'.dat'))\n",
    "                    t3 = threading.Thread(target=work, args=[data3,period3,file])\n",
    "                    t3.start()\n",
    "                    t3.join()\n",
    "                except Exception:\n",
    "                    _\n",
    "                try:\n",
    "                    data4 = np.loadtxt(join(data_path, sub_class, lc_list[lc_index+3]+'.time'))\n",
    "                    period4 = np.loadtxt(join(data_path, sub_class, lc_list[lc_index+3]+'.dat'))\n",
    "                    t4 = threading.Thread(target=work, args=[data4,period4,file])\n",
    "                    t4.start()\n",
    "                    t4.join()\n",
    "                except Exception:\n",
    "                    _\n",
    "                work(data,period,file)\n",
    "            \n",
    "            \n",
    "            \n",
    "        \n",
    "file.close()\n",
    "        \n",
    "\n",
    "\n",
    "    \n"
   ]
  },
  {
   "cell_type": "code",
   "execution_count": 25,
   "metadata": {},
   "outputs": [
    {
     "name": "stdout",
     "output_type": "stream",
     "text": [
      "Finished\n"
     ]
    }
   ],
   "source": [
    "print(\"Finished\")"
   ]
  },
  {
   "cell_type": "code",
   "execution_count": null,
   "metadata": {
    "scrolled": true
   },
   "outputs": [],
   "source": []
  },
  {
   "cell_type": "code",
   "execution_count": null,
   "metadata": {},
   "outputs": [],
   "source": []
  },
  {
   "cell_type": "code",
   "execution_count": null,
   "metadata": {},
   "outputs": [],
   "source": []
  },
  {
   "cell_type": "code",
   "execution_count": null,
   "metadata": {},
   "outputs": [],
   "source": []
  },
  {
   "cell_type": "code",
   "execution_count": null,
   "metadata": {},
   "outputs": [],
   "source": []
  },
  {
   "cell_type": "code",
   "execution_count": null,
   "metadata": {},
   "outputs": [],
   "source": []
  }
 ],
 "metadata": {
  "kernelspec": {
   "display_name": "Python 3",
   "language": "python",
   "name": "python3"
  },
  "language_info": {
   "codemirror_mode": {
    "name": "ipython",
    "version": 3
   },
   "file_extension": ".py",
   "mimetype": "text/x-python",
   "name": "python",
   "nbconvert_exporter": "python",
   "pygments_lexer": "ipython3",
   "version": "3.5.2"
  }
 },
 "nbformat": 4,
 "nbformat_minor": 2
}
