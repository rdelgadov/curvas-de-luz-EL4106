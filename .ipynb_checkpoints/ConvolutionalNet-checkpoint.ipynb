{
 "cells": [
  {
   "cell_type": "code",
   "execution_count": 2,
   "metadata": {},
   "outputs": [
    {
     "ename": "NameError",
     "evalue": "name 'datostrain' is not defined",
     "output_type": "error",
     "traceback": [
      "\u001b[0;31m---------------------------------------------------------------------------\u001b[0m",
      "\u001b[0;31mNameError\u001b[0m                                 Traceback (most recent call last)",
      "\u001b[0;32m<ipython-input-2-ee366d15fba7>\u001b[0m in \u001b[0;36m<module>\u001b[0;34m()\u001b[0m\n\u001b[1;32m      4\u001b[0m \u001b[0;31m#importar los datos:\u001b[0m\u001b[0;34m\u001b[0m\u001b[0;34m\u001b[0m\u001b[0m\n\u001b[1;32m      5\u001b[0m \u001b[0;31m#importar desde 3 archivos diferentes, labels x,y x archivo.\u001b[0m\u001b[0;34m\u001b[0m\u001b[0;34m\u001b[0m\u001b[0m\n\u001b[0;32m----> 6\u001b[0;31m \u001b[0mx_train\u001b[0m\u001b[0;34m,\u001b[0m\u001b[0my_train\u001b[0m \u001b[0;34m=\u001b[0m \u001b[0mdatostrain\u001b[0m\u001b[0;34m.\u001b[0m\u001b[0mx\u001b[0m\u001b[0;34m,\u001b[0m\u001b[0mdatostrain\u001b[0m\u001b[0;34m.\u001b[0m\u001b[0my\u001b[0m\u001b[0;34m\u001b[0m\u001b[0m\n\u001b[0m\u001b[1;32m      7\u001b[0m \u001b[0mx_validation\u001b[0m\u001b[0;34m,\u001b[0m \u001b[0my_validation\u001b[0m \u001b[0;34m=\u001b[0m \u001b[0mdatosvalidation\u001b[0m\u001b[0;34m.\u001b[0m\u001b[0mx\u001b[0m\u001b[0;34m,\u001b[0m \u001b[0mdatosvalidation\u001b[0m\u001b[0;34m.\u001b[0m\u001b[0my\u001b[0m\u001b[0;34m\u001b[0m\u001b[0m\n\u001b[1;32m      8\u001b[0m \u001b[0mx_testing\u001b[0m\u001b[0;34m,\u001b[0m \u001b[0my_testing\u001b[0m \u001b[0;34m=\u001b[0m \u001b[0mdatostesting\u001b[0m\u001b[0;34m.\u001b[0m\u001b[0mx\u001b[0m\u001b[0;34m,\u001b[0m\u001b[0mdatostesting\u001b[0m\u001b[0;34m.\u001b[0m\u001b[0my\u001b[0m\u001b[0;34m\u001b[0m\u001b[0m\n",
      "\u001b[0;31mNameError\u001b[0m: name 'datostrain' is not defined"
     ]
    }
   ],
   "source": [
    "import numpy as np\n",
    "import tensorflow as tf\n",
    "\n",
    "#importar los datos:\n",
    "#importar desde 3 archivos diferentes, labels x,y x archivo.\n",
    "x_train,y_train = datostrain.x,datostrain.y\n",
    "x_validation, y_validation = datosvalidation.x, datosvalidation.y\n",
    "x_testing, y_testing = datostesting.x,datostesting.y\n"
   ]
  },
  {
   "cell_type": "code",
   "execution_count": null,
   "metadata": {},
   "outputs": [],
   "source": [
    "# Dimensiones arreglo de data. \n",
    "N,D = x_train.shape\n",
    "# Redimensionar para usar tensores de Nx1 y Dx1\n",
    "x_train = x_train.reshape(N,1,D,1)\n",
    "# Input de la red, None es para utilzar cualquier numero de input\n",
    "x = tf.placeholder(tf.float32, shape=[None,1,D,1], name='x-input')\n",
    "\n",
    "# filtro\n",
    "filter_size, n_filters = 3, 12\n",
    "# Son n_filters filtros de tamaño filter_size\n",
    "\n",
    "# Pesos inicializados con una normal \n",
    "W = tf.Variable( tf.truncated_normal(shape=[1, filter_size, 1,n_filters], stddev=0.1) )\n",
    "\n",
    "stride_convd1 = 2 # controla el stride para convolucion en 1D\n",
    "\n",
    "# Tensorflow al\n",
    "conv = tf.nn.conv2d(input=x, filter=W, strides=[1, 1, stride_convd1, 1], padding=\"SAME\", name=\"conv\")\n",
    "\n"
   ]
  }
 ],
 "metadata": {
  "kernelspec": {
   "display_name": "jupyter3_Python_3",
   "language": "python",
   "name": "jupyter3_python_3"
  },
  "language_info": {
   "codemirror_mode": {
    "name": "ipython",
    "version": 3
   },
   "file_extension": ".py",
   "mimetype": "text/x-python",
   "name": "python",
   "nbconvert_exporter": "python",
   "pygments_lexer": "ipython3",
   "version": "3.5.2"
  }
 },
 "nbformat": 4,
 "nbformat_minor": 2
}
