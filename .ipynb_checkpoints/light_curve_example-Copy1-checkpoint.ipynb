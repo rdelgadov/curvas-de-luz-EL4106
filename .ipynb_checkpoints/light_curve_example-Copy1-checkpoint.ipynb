{
 "cells": [
  {
   "cell_type": "code",
   "execution_count": 2,
   "metadata": {},
   "outputs": [],
   "source": [
    "import json\n",
    "import GPy\n",
    "import numpy as np\n",
    "%matplotlib inline\n",
    "import matplotlib.pylab as plt\n",
    "from os.path import join, splitext\n",
    "from os import listdir\n",
    "from multiprocessing import Pool,Lock\n",
    "import threading"
   ]
  },
  {
   "cell_type": "code",
   "execution_count": 12,
   "metadata": {
    "collapsed": true
   },
   "outputs": [],
   "source": [
    "data_path = '/home/rodrigo/Documents/curvas-de-luz-EL4106/OGLE_trainingDB/'\n"
   ]
  },
  {
   "cell_type": "code",
   "execution_count": 13,
   "metadata": {},
   "outputs": [
    {
     "data": {
      "text/plain": [
       "'asd/fg/ed'"
      ]
     },
     "execution_count": 13,
     "metadata": {},
     "output_type": "execute_result"
    }
   ],
   "source": [
    "# para tener todos los directorios, bastaria eliminar los que ya se procesaron.\n",
    "join('asd','fg','ed')"
   ]
  },
  {
   "cell_type": "code",
   "execution_count": 14,
   "metadata": {},
   "outputs": [
    {
     "name": "stdout",
     "output_type": "stream",
     "text": [
      "45  \n",
      "\n",
      "\n",
      "\n"
     ]
    }
   ],
   "source": [
    "def test(lista):\n",
    "    print( lista[2],'\\n' )\n",
    "l1 = [2,3,4]\n",
    "l2 = [3,4,5]\n",
    "l4 = [5,6]\n",
    "\n",
    "t2 = threading.Thread(target=test, args=[l1])\n",
    "t2.start()\n",
    "t2.join()\n",
    "    \n",
    "\n",
    "t3 = threading.Thread(target=test, args=[l2])\n",
    "t3.start()\n",
    "t3.join()\n",
    "try:\n",
    "    t4 = threading.Thread(target=test, args=[l4[2]])\n",
    "    t4.start()\n",
    "    t4.join()\n",
    "except Exception:\n",
    "    _\n"
   ]
  },
  {
   "cell_type": "code",
   "execution_count": 15,
   "metadata": {
    "collapsed": true
   },
   "outputs": [],
   "source": [
    "lock = Lock()\n",
    "file = open('database2.csv','a')\n",
    "def smooth(x, window_len=11, window='hanning'):\n",
    "    if window_len < 3:\n",
    "        return x\n",
    "    if not window in ['flat', 'hanning', 'hamming', 'bartlett', 'blackman']:\n",
    "        raise ValueError(\"Window is on of 'flat', 'hanning', 'hamming', 'bartlett', 'blackman'\")\n",
    "    s=np.r_[x[window_len-1:0:-1],x,x[-1:-window_len:-1]]\n",
    "    if window == 'flat': #moving average\n",
    "        w=np.ones(window_len,'d')\n",
    "    else:\n",
    "        w=eval('np.'+window+'(window_len)')\n",
    "    y=np.convolve(w/w.sum(),s,mode='valid')\n",
    "    return y    "
   ]
  },
  {
   "cell_type": "code",
   "execution_count": 16,
   "metadata": {
    "collapsed": true
   },
   "outputs": [],
   "source": [
    "def worker(data,period):\n",
    "    mjd, mag_r, err_r, mag_b, err_b = data[:, 0], data[:, 1], data[:, 2], data[:, 3], data[:, 4]\n",
    "    \"\"\"\n",
    "    mjd_b = mjd\n",
    "    mjd_r = mjd\n",
    "    \"\"\"\n",
    "    mjd_b = mjd[err_b < 9.999]\n",
    "    mjd_r = mjd[err_r < 9.999]\n",
    "    mag_b = mag_b[err_b < 9.999]\n",
    "    mag_r = mag_r[err_r < 9.999]\n",
    "    err_b = err_b[err_b < 9.999]\n",
    "    err_r = err_r[err_r < 9.999]\n",
    "    \n",
    "    mask = err_b < np.mean(err_b) + 3*np.std(err_b)\n",
    "    mjd_b = mjd_b[mask]\n",
    "    mag_b = mag_b[mask]\n",
    "    err_b = err_b[mask]\n",
    "    mask = err_r < np.mean(err_r) + 3*np.std(err_r)\n",
    "    mjd_r = mjd_r[mask]\n",
    "    mag_r = mag_r[mask]\n",
    "    err_r = err_r[mask]\n",
    "\n",
    "    phi = np.mod(mjd_b, period)/period\n",
    "    I = np.argsort(phi)\n",
    "    phi_rs = np.linspace(0, 1, num=200)\n",
    "    mag_b_rs = np.interp(phi_rs, phi[I], mag_b[I])\n",
    "\n",
    "\n",
    "    kernel = GPy.kern.RBF(input_dim=1, variance=1., lengthscale=1.)\n",
    "    m = GPy.models.GPHeteroscedasticRegression(phi[:, np.newaxis], mag_b[:, np.newaxis], kernel)\n",
    "    m['.*het_Gauss.variance'] = err_b[:, np.newaxis]**2 \n",
    "    m.het_Gauss.variance.fix() \n",
    "    #m.het_Gauss.period.fix() \n",
    "    \n",
    "    m.optimize()\n",
    "    m.optimize(messages=True)\n",
    "    m.optimize_restarts(num_restarts = 5)\n",
    "    mu, var = m._raw_predict(phi_rs[:, np.newaxis])\n",
    "    # File writer\n",
    "    mu = json.dumps(mu[:,0].tolist())\n",
    "    file.write(mu + ';' + subclass+'\\n')\n",
    "    "
   ]
  },
  {
   "cell_type": "code",
   "execution_count": 20,
   "metadata": {},
   "outputs": [
    {
     "ename": "NotADirectoryError",
     "evalue": "[Errno 20] Not a directory: '/home/rodrigo/Documents/curvas-de-luz-EL4106/OGLE_trainingDB/CEPH/F_10_20/lm0091l26594.dat'",
     "output_type": "error",
     "traceback": [
      "\u001b[0;31m---------------------------------------------------------------------------\u001b[0m",
      "\u001b[0;31mNotADirectoryError\u001b[0m                        Traceback (most recent call last)",
      "\u001b[0;32m<ipython-input-20-358012668826>\u001b[0m in \u001b[0;36m<module>\u001b[0;34m()\u001b[0m\n\u001b[1;32m      2\u001b[0m \u001b[0;32mfor\u001b[0m \u001b[0mdir\u001b[0m \u001b[0;32min\u001b[0m \u001b[0mdir_list\u001b[0m\u001b[0;34m:\u001b[0m\u001b[0;34m\u001b[0m\u001b[0m\n\u001b[1;32m      3\u001b[0m     \u001b[0;32mfor\u001b[0m \u001b[0msub_class\u001b[0m \u001b[0;32min\u001b[0m \u001b[0mlistdir\u001b[0m\u001b[0;34m(\u001b[0m\u001b[0mjoin\u001b[0m\u001b[0;34m(\u001b[0m\u001b[0mdata_path\u001b[0m\u001b[0;34m,\u001b[0m\u001b[0mdir\u001b[0m\u001b[0;34m)\u001b[0m\u001b[0;34m)\u001b[0m\u001b[0;34m:\u001b[0m\u001b[0;34m\u001b[0m\u001b[0m\n\u001b[0;32m----> 4\u001b[0;31m         \u001b[0mlc_list\u001b[0m \u001b[0;34m=\u001b[0m \u001b[0;34m[\u001b[0m\u001b[0msplitext\u001b[0m\u001b[0;34m(\u001b[0m\u001b[0mfile\u001b[0m\u001b[0;34m)\u001b[0m\u001b[0;34m[\u001b[0m\u001b[0;36m0\u001b[0m\u001b[0;34m]\u001b[0m \u001b[0;32mfor\u001b[0m \u001b[0mfile\u001b[0m \u001b[0;32min\u001b[0m \u001b[0msorted\u001b[0m\u001b[0;34m(\u001b[0m\u001b[0mlistdir\u001b[0m\u001b[0;34m(\u001b[0m\u001b[0mjoin\u001b[0m\u001b[0;34m(\u001b[0m\u001b[0mdata_path\u001b[0m\u001b[0;34m,\u001b[0m \u001b[0mdir\u001b[0m \u001b[0;34m,\u001b[0m \u001b[0msub_class\u001b[0m\u001b[0;34m)\u001b[0m\u001b[0;34m)\u001b[0m\u001b[0;34m)\u001b[0m \u001b[0;32mif\u001b[0m \u001b[0msplitext\u001b[0m\u001b[0;34m(\u001b[0m\u001b[0mfile\u001b[0m\u001b[0;34m)\u001b[0m\u001b[0;34m[\u001b[0m\u001b[0;36m1\u001b[0m\u001b[0;34m]\u001b[0m \u001b[0;34m==\u001b[0m \u001b[0;34m'.dat'\u001b[0m\u001b[0;34m]\u001b[0m\u001b[0;34m\u001b[0m\u001b[0m\n\u001b[0m\u001b[1;32m      5\u001b[0m         \u001b[0mprint\u001b[0m\u001b[0;34m(\u001b[0m\u001b[0mdir\u001b[0m\u001b[0;34m,\u001b[0m\u001b[0msub_class\u001b[0m\u001b[0;34m,\u001b[0m\u001b[0mlen\u001b[0m\u001b[0;34m(\u001b[0m\u001b[0mlc_list\u001b[0m\u001b[0;34m)\u001b[0m\u001b[0;34m)\u001b[0m\u001b[0;34m\u001b[0m\u001b[0m\n\u001b[1;32m      6\u001b[0m \u001b[0;34m\u001b[0m\u001b[0m\n",
      "\u001b[0;31mNotADirectoryError\u001b[0m: [Errno 20] Not a directory: '/home/rodrigo/Documents/curvas-de-luz-EL4106/OGLE_trainingDB/CEPH/F_10_20/lm0091l26594.dat'"
     ]
    }
   ],
   "source": [
    "dir_list = listdir(data_path)\n",
    "for dir in dir_list:\n",
    "    for sub_class in listdir(join(data_path,dir)):\n",
    "        lc_list = [splitext(file)[0] for file in sorted(listdir(join(data_path, dir , sub_class))) if splitext(file)[1] == '.dat']\n",
    "        print(dir,sub_class,len(lc_list))\n",
    "     \n",
    "        if len(lc_list)>50:\n",
    "            for lc_index in range(1,len(lc_list),4):\n",
    "                data = np.loadtxt(join(data_path,dir, sub_class, lc_list[lc_index]+'.time'))\n",
    "                period = np.loadtxt(join(data_path,dir, sub_class, lc_list[lc_index]+'.dat'))\n",
    "                try:\n",
    "                    data2 = np.loadtxt(join(data_path,dir, sub_class, lc_list[lc_index+1]+'.time'))\n",
    "                    period2 = np.loadtxt(join(data_path,dir, sub_class, lc_list[lc_index+1]+'.dat'))\n",
    "                    t2 = threading.Thread(target=work, args=[data2,period2,file])\n",
    "                    t2.start()\n",
    "                    t2.join()\n",
    "                except Exception:\n",
    "                    _\n",
    "                \n",
    "                try:\n",
    "                    data3 = np.loadtxt(join(data_path,dir, sub_class, lc_list[lc_index+2]+'.time'))\n",
    "                    period3 = np.loadtxt(join(data_path,dir, sub_class, lc_list[lc_index+2]+'.dat'))\n",
    "                    t3 = threading.Thread(target=work, args=[data3,period3,file])\n",
    "                    t3.start()\n",
    "                    t3.join()\n",
    "                except Exception:\n",
    "                    _\n",
    "                try:\n",
    "                    data4 = np.loadtxt(join(data_path,dir, sub_class, lc_list[lc_index+3]+'.time'))\n",
    "                    period4 = np.loadtxt(join(data_path,dir, sub_class, lc_list[lc_index+3]+'.dat'))\n",
    "                    t4 = threading.Thread(target=work, args=[data4,period4,file])\n",
    "                    t4.start()\n",
    "                    t4.join()\n",
    "                except Exception:\n",
    "                    _\n",
    "                work(data,period,file)\n",
    "            \n",
    "            \n",
    "            \n",
    "        \n",
    "file.close()\n",
    "        \n",
    "\n",
    "\n",
    "    \n"
   ]
  },
  {
   "cell_type": "code",
   "execution_count": 25,
   "metadata": {},
   "outputs": [
    {
     "name": "stdout",
     "output_type": "stream",
     "text": [
      "Finished\n"
     ]
    }
   ],
   "source": [
    "print(\"Finished\")"
   ]
  },
  {
   "cell_type": "code",
   "execution_count": 18,
   "metadata": {
    "scrolled": true
   },
   "outputs": [
    {
     "data": {
      "text/plain": [
       "array([[  2.94910260e+02,   1.69170000e+01,   3.60000000e-02,\n",
       "          1.70920000e+01,   4.10000000e-02],\n",
       "       [  2.96916960e+02,   1.69830000e+01,   5.00000000e-02,\n",
       "          1.71660000e+01,   5.10000000e-02],\n",
       "       [  3.01927470e+02,   1.69260000e+01,   4.80000000e-02,\n",
       "          9.99990000e+01,   9.99900000e+00],\n",
       "       ..., \n",
       "       [  2.68358224e+03,   9.99990000e+01,   9.99900000e+00,\n",
       "          1.69970000e+01,   4.10000000e-02],\n",
       "       [  2.68656875e+03,   9.99990000e+01,   9.99900000e+00,\n",
       "          1.72580000e+01,   5.30000000e-02],\n",
       "       [  2.69762418e+03,   9.99990000e+01,   9.99900000e+00,\n",
       "          1.70830000e+01,   4.40000000e-02]])"
      ]
     },
     "execution_count": 18,
     "metadata": {},
     "output_type": "execute_result"
    }
   ],
   "source": [
    "np.loadtxt('/home/rodrigo/Documents/curvas-de-luz-EL4106/OGLE_trainingDB/CEPH/1O/lm0010k17018.time')"
   ]
  },
  {
   "cell_type": "code",
   "execution_count": null,
   "metadata": {
    "collapsed": true
   },
   "outputs": [],
   "source": []
  },
  {
   "cell_type": "code",
   "execution_count": null,
   "metadata": {
    "collapsed": true
   },
   "outputs": [],
   "source": []
  },
  {
   "cell_type": "code",
   "execution_count": null,
   "metadata": {
    "collapsed": true
   },
   "outputs": [],
   "source": []
  },
  {
   "cell_type": "code",
   "execution_count": null,
   "metadata": {
    "collapsed": true
   },
   "outputs": [],
   "source": []
  },
  {
   "cell_type": "code",
   "execution_count": null,
   "metadata": {
    "collapsed": true
   },
   "outputs": [],
   "source": []
  }
 ],
 "metadata": {
  "kernelspec": {
   "display_name": "Python 3",
   "language": "python",
   "name": "python3"
  },
  "language_info": {
   "codemirror_mode": {
    "name": "ipython",
    "version": 3
   },
   "file_extension": ".py",
   "mimetype": "text/x-python",
   "name": "python",
   "nbconvert_exporter": "python",
   "pygments_lexer": "ipython3",
   "version": "3.5.2"
  }
 },
 "nbformat": 4,
 "nbformat_minor": 2
}
