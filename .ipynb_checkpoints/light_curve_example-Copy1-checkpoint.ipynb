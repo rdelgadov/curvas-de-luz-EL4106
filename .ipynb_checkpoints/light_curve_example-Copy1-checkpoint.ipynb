{
 "cells": [
  {
   "cell_type": "code",
   "execution_count": 19,
   "metadata": {},
   "outputs": [],
   "source": [
    "import json\n",
    "import GPy\n",
    "import numpy as np\n",
    "%matplotlib inline\n",
    "import matplotlib.pylab as plt\n",
    "from os.path import join, splitext\n",
    "from os import listdir"
   ]
  },
  {
   "cell_type": "code",
   "execution_count": 20,
   "metadata": {},
   "outputs": [],
   "source": [
    "data_path = '/home/rodrigo/Documents/curvas-de-luz-EL4106/OGLE_trainingDB/'\n",
    "sub_class = 'CEPH/F_10'"
   ]
  },
  {
   "cell_type": "code",
   "execution_count": 30,
   "metadata": {},
   "outputs": [
    {
     "data": {
      "text/plain": [
       "'asd/fg/ed'"
      ]
     },
     "execution_count": 30,
     "metadata": {},
     "output_type": "execute_result"
    }
   ],
   "source": [
    "# para tener todos los directorios, bastaria eliminar los que ya se procesaron.\n",
    "join('asd','fg','ed')"
   ]
  },
  {
   "cell_type": "code",
   "execution_count": 22,
   "metadata": {},
   "outputs": [],
   "source": []
  },
  {
   "cell_type": "code",
   "execution_count": 23,
   "metadata": {},
   "outputs": [
    {
     "name": "stdout",
     "output_type": "stream",
     "text": [
      "51\n"
     ]
    }
   ],
   "source": [
    "\n",
    "file = open('database.csv','a')\n",
    "def smooth(x, window_len=11, window='hanning'):\n",
    "    if window_len < 3:\n",
    "        return x\n",
    "    if not window in ['flat', 'hanning', 'hamming', 'bartlett', 'blackman']:\n",
    "        raise ValueError(\"Window is on of 'flat', 'hanning', 'hamming', 'bartlett', 'blackman'\")\n",
    "    s=np.r_[x[window_len-1:0:-1],x,x[-1:-window_len:-1]]\n",
    "    if window == 'flat': #moving average\n",
    "        w=np.ones(window_len,'d')\n",
    "    else:\n",
    "        w=eval('np.'+window+'(window_len)')\n",
    "    y=np.convolve(w/w.sum(),s,mode='valid')\n",
    "    return y    "
   ]
  },
  {
   "cell_type": "code",
   "execution_count": 33,
   "metadata": {},
   "outputs": [
    {
     "name": "stdout",
     "output_type": "stream",
     "text": [
      "RRd 646\n",
      "RRe 685\n",
      "RRc 3301\n",
      "RRab 11972\n",
      "ED_ESD 319\n",
      "ELL_EC 147\n",
      "EC 721\n",
      "ED_VAR 58\n",
      "ESD 3240\n",
      "ED_TEB 3\n",
      "ESD_DPV 12\n",
      "ED 4755\n",
      "1O 1027\n",
      "1O_20 166\n",
      "1O_3O 2\n",
      "F_10_20 2\n",
      "1O_20_3O 3\n",
      "F 1482\n",
      "2O 12\n",
      "F_10 51\n"
     ]
    }
   ],
   "source": [
    "dir_list = listdir(data_path)\n",
    "for dir in dir_list:\n",
    "    for subclass in listdir(join(data_path,dir)):\n",
    "        lc_list = [splitext(file)[0] for file in sorted(listdir(join(data_path, dir , subclass))) if splitext(file)[1] == '.dat']\n",
    "        print(subclass,len(lc_list))\n",
    "        for lc_index in range(len(lc_list)):\n",
    "\n",
    "            data = np.loadtxt(join(data_path, sub_class, lc_list[lc_index]+'.time'))\n",
    "            period = np.loadtxt(join(data_path, sub_class, lc_list[lc_index]+'.dat'))\n",
    "            mjd, mag_r, err_r, mag_b, err_b = data[:, 0], data[:, 1], data[:, 2], data[:, 3], data[:, 4]\n",
    "            \"\"\"\n",
    "            mjd_b = mjd\n",
    "            mjd_r = mjd\n",
    "            \"\"\"\n",
    "            mjd_b = mjd[err_b < 9.999]\n",
    "            mjd_r = mjd[err_r < 9.999]\n",
    "            mag_b = mag_b[err_b < 9.999]\n",
    "            mag_r = mag_r[err_r < 9.999]\n",
    "            err_b = err_b[err_b < 9.999]\n",
    "            err_r = err_r[err_r < 9.999]\n",
    "\n",
    "            mask = err_b < np.mean(err_b) + 3*np.std(err_b)\n",
    "            mjd_b = mjd_b[mask]\n",
    "            mag_b = mag_b[mask]\n",
    "            err_b = err_b[mask]\n",
    "            mask = err_r < np.mean(err_r) + 3*np.std(err_r)\n",
    "            mjd_r = mjd_r[mask]\n",
    "            mag_r = mag_r[mask]\n",
    "            err_r = err_r[mask]\n",
    "\n",
    "            phi = np.mod(mjd_b, period)/period\n",
    "            I = np.argsort(phi)\n",
    "            phi_rs = np.linspace(0, 1, num=200)\n",
    "            mag_b_rs = np.interp(phi_rs, phi[I], mag_b[I])\n",
    "\n",
    "\n",
    "            kernel = GPy.kern.RBF(input_dim=1, variance=1., lengthscale=1.)\n",
    "            m = GPy.models.GPHeteroscedasticRegression(phi[:, np.newaxis], mag_b[:, np.newaxis], kernel)\n",
    "            m['.*het_Gauss.variance'] = err_b[:, np.newaxis]**2 \n",
    "            m.het_Gauss.variance.fix() \n",
    "            #m.het_Gauss.period.fix() \n",
    "            m.optimize()\n",
    "\n",
    "            m.optimize(messages=True)\n",
    "            m.optimize_restarts(num_restarts = 5)\n",
    "            mu, var = m._raw_predict(phi_rs[:, np.newaxis])\n",
    "            # File writer\n",
    "            file.write(json.dumps(phi_rs.tolist())+\";\"+json.dumps(mu[:,0].tolist())+\";\"+sub_class+'\\n')\n",
    "            print(lc_index)\n",
    "file.close()\n",
    "        \n",
    "\n",
    "\n",
    "    \n"
   ]
  },
  {
   "cell_type": "code",
   "execution_count": 25,
   "metadata": {},
   "outputs": [
    {
     "name": "stdout",
     "output_type": "stream",
     "text": [
      "Finished\n"
     ]
    }
   ],
   "source": [
    "print(\"Finished\")"
   ]
  },
  {
   "cell_type": "code",
   "execution_count": null,
   "metadata": {
    "scrolled": true
   },
   "outputs": [],
   "source": []
  },
  {
   "cell_type": "code",
   "execution_count": null,
   "metadata": {},
   "outputs": [],
   "source": []
  },
  {
   "cell_type": "code",
   "execution_count": null,
   "metadata": {},
   "outputs": [],
   "source": []
  },
  {
   "cell_type": "code",
   "execution_count": null,
   "metadata": {},
   "outputs": [],
   "source": []
  },
  {
   "cell_type": "code",
   "execution_count": null,
   "metadata": {},
   "outputs": [],
   "source": []
  },
  {
   "cell_type": "code",
   "execution_count": null,
   "metadata": {},
   "outputs": [],
   "source": []
  }
 ],
 "metadata": {
  "kernelspec": {
   "display_name": "Python 3",
   "language": "python",
   "name": "python3"
  },
  "language_info": {
   "codemirror_mode": {
    "name": "ipython",
    "version": 3
   },
   "file_extension": ".py",
   "mimetype": "text/x-python",
   "name": "python",
   "nbconvert_exporter": "python",
   "pygments_lexer": "ipython3",
   "version": "3.5.2"
  }
 },
 "nbformat": 4,
 "nbformat_minor": 2
}
